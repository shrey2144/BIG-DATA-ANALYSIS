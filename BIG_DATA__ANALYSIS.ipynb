{
  "nbformat": 4,
  "nbformat_minor": 0,
  "metadata": {
    "colab": {
      "provenance": [],
      "authorship_tag": "ABX9TyPycfwP4gjqyDuc+nRtjogo",
      "include_colab_link": true
    },
    "kernelspec": {
      "name": "python3",
      "display_name": "Python 3"
    },
    "language_info": {
      "name": "python"
    }
  },
  "cells": [
    {
      "cell_type": "markdown",
      "metadata": {
        "id": "view-in-github",
        "colab_type": "text"
      },
      "source": [
        "<a href=\"https://colab.research.google.com/github/shrey2144/BIG-DATA-ANALYSIS/blob/main/BIG_DATA__ANALYSIS.ipynb\" target=\"_parent\"><img src=\"https://colab.research.google.com/assets/colab-badge.svg\" alt=\"Open In Colab\"/></a>"
      ]
    },
    {
      "cell_type": "markdown",
      "source": [
        " Step 1: Set Up PySpark in Colab"
      ],
      "metadata": {
        "id": "4-YqD2sXkz8k"
      }
    },
    {
      "cell_type": "code",
      "execution_count": null,
      "metadata": {
        "id": "5cev931khsIL"
      },
      "outputs": [],
      "source": [
        "# Step 1: Setup Java + Spark\n",
        "!apt-get install openjdk-8-jdk-headless -qq > /dev/null\n",
        "!wget -q https://archive.apache.org/dist/spark/spark-3.4.0/spark-3.4.0-bin-hadoop3.tgz\n",
        "!tar xf spark-3.4.0-bin-hadoop3.tgz\n",
        "!pip install -q findspark\n",
        "\n",
        "# Step 2: Environment + Init\n",
        "import os\n",
        "os.environ[\"JAVA_HOME\"] = \"/usr/lib/jvm/java-8-openjdk-amd64\"\n",
        "os.environ[\"SPARK_HOME\"] = \"/content/spark-3.4.0-bin-hadoop3\"\n",
        "import findspark\n",
        "findspark.init()"
      ]
    },
    {
      "cell_type": "markdown",
      "source": [
        "Step 2: Start Spark Session"
      ],
      "metadata": {
        "id": "dDTBdE4kk3nD"
      }
    },
    {
      "cell_type": "code",
      "source": [
        "from pyspark.sql import SparkSession\n",
        "spark = SparkSession.builder.appName(\"BigDataAnalysis\").getOrCreate()\n"
      ],
      "metadata": {
        "id": "PEHAU_Qxh6cE"
      },
      "execution_count": null,
      "outputs": []
    },
    {
      "cell_type": "markdown",
      "source": [
        "Step 3: Load Large Dataset"
      ],
      "metadata": {
        "id": "jrIKaS4Qk6tq"
      }
    },
    {
      "cell_type": "code",
      "source": [
        "url = \"https://d37ci6vzurychx.cloudfront.net/trip-data/yellow_tripdata_2023-01.parquet\"\n",
        "\n",
        "# Download the file locally\n",
        "!wget -q {url} -O yellow_tripdata_2023-01.parquet\n",
        "\n",
        "# Read the downloaded file with Spark\n",
        "df = spark.read.parquet(\"yellow_tripdata_2023-01.parquet\")\n",
        "df.printSchema()\n",
        "df.show(5)"
      ],
      "metadata": {
        "colab": {
          "base_uri": "https://localhost:8080/"
        },
        "id": "t-a2KIRHjDyk",
        "outputId": "87a81582-7491-4494-a5c4-214a0d5dc56f"
      },
      "execution_count": null,
      "outputs": [
        {
          "output_type": "stream",
          "name": "stdout",
          "text": [
            "root\n",
            " |-- VendorID: long (nullable = true)\n",
            " |-- tpep_pickup_datetime: timestamp_ntz (nullable = true)\n",
            " |-- tpep_dropoff_datetime: timestamp_ntz (nullable = true)\n",
            " |-- passenger_count: double (nullable = true)\n",
            " |-- trip_distance: double (nullable = true)\n",
            " |-- RatecodeID: double (nullable = true)\n",
            " |-- store_and_fwd_flag: string (nullable = true)\n",
            " |-- PULocationID: long (nullable = true)\n",
            " |-- DOLocationID: long (nullable = true)\n",
            " |-- payment_type: long (nullable = true)\n",
            " |-- fare_amount: double (nullable = true)\n",
            " |-- extra: double (nullable = true)\n",
            " |-- mta_tax: double (nullable = true)\n",
            " |-- tip_amount: double (nullable = true)\n",
            " |-- tolls_amount: double (nullable = true)\n",
            " |-- improvement_surcharge: double (nullable = true)\n",
            " |-- total_amount: double (nullable = true)\n",
            " |-- congestion_surcharge: double (nullable = true)\n",
            " |-- airport_fee: double (nullable = true)\n",
            "\n",
            "+--------+--------------------+---------------------+---------------+-------------+----------+------------------+------------+------------+------------+-----------+-----+-------+----------+------------+---------------------+------------+--------------------+-----------+\n",
            "|VendorID|tpep_pickup_datetime|tpep_dropoff_datetime|passenger_count|trip_distance|RatecodeID|store_and_fwd_flag|PULocationID|DOLocationID|payment_type|fare_amount|extra|mta_tax|tip_amount|tolls_amount|improvement_surcharge|total_amount|congestion_surcharge|airport_fee|\n",
            "+--------+--------------------+---------------------+---------------+-------------+----------+------------------+------------+------------+------------+-----------+-----+-------+----------+------------+---------------------+------------+--------------------+-----------+\n",
            "|       2| 2023-01-01 00:32:10|  2023-01-01 00:40:36|            1.0|         0.97|       1.0|                 N|         161|         141|           2|        9.3|  1.0|    0.5|       0.0|         0.0|                  1.0|        14.3|                 2.5|        0.0|\n",
            "|       2| 2023-01-01 00:55:08|  2023-01-01 01:01:27|            1.0|          1.1|       1.0|                 N|          43|         237|           1|        7.9|  1.0|    0.5|       4.0|         0.0|                  1.0|        16.9|                 2.5|        0.0|\n",
            "|       2| 2023-01-01 00:25:04|  2023-01-01 00:37:49|            1.0|         2.51|       1.0|                 N|          48|         238|           1|       14.9|  1.0|    0.5|      15.0|         0.0|                  1.0|        34.9|                 2.5|        0.0|\n",
            "|       1| 2023-01-01 00:03:48|  2023-01-01 00:13:25|            0.0|          1.9|       1.0|                 N|         138|           7|           1|       12.1| 7.25|    0.5|       0.0|         0.0|                  1.0|       20.85|                 0.0|       1.25|\n",
            "|       2| 2023-01-01 00:10:29|  2023-01-01 00:21:19|            1.0|         1.43|       1.0|                 N|         107|          79|           1|       11.4|  1.0|    0.5|      3.28|         0.0|                  1.0|       19.68|                 2.5|        0.0|\n",
            "+--------+--------------------+---------------------+---------------+-------------+----------+------------------+------------+------------+------------+-----------+-----+-------+----------+------------+---------------------+------------+--------------------+-----------+\n",
            "only showing top 5 rows\n",
            "\n"
          ]
        }
      ]
    },
    {
      "cell_type": "markdown",
      "source": [
        "Step 4: Clean the Data"
      ],
      "metadata": {
        "id": "ryzR8mgslAW7"
      }
    },
    {
      "cell_type": "code",
      "source": [
        "# Drop rows with nulls\n",
        "df_clean = df.dropna()\n",
        "\n",
        "# Create trip duration column\n",
        "from pyspark.sql.functions import col, unix_timestamp\n",
        "\n",
        "df_clean = df_clean.withColumn(\"trip_duration\",\n",
        "                (unix_timestamp(\"tpep_dropoff_datetime\") - unix_timestamp(\"tpep_pickup_datetime\")) / 60)\n",
        "\n",
        "df_clean.select(\"trip_duration\").describe().show()\n"
      ],
      "metadata": {
        "colab": {
          "base_uri": "https://localhost:8080/"
        },
        "id": "TWszGEOQjSsM",
        "outputId": "ba32e124-b9bf-4493-b156-27fb608b26ea"
      },
      "execution_count": null,
      "outputs": [
        {
          "output_type": "stream",
          "name": "stdout",
          "text": [
            "+-------+------------------+\n",
            "|summary|     trip_duration|\n",
            "+-------+------------------+\n",
            "|  count|           2995023|\n",
            "|   mean|  15.6425419103643|\n",
            "| stddev| 43.06964259694771|\n",
            "|    min|             -29.2|\n",
            "|    max|10029.183333333332|\n",
            "+-------+------------------+\n",
            "\n"
          ]
        }
      ]
    },
    {
      "cell_type": "markdown",
      "source": [
        "Step 5: Perform Analysis"
      ],
      "metadata": {
        "id": "hfCQLoY2lDPD"
      }
    },
    {
      "cell_type": "markdown",
      "source": [
        "1. Top Pickup Locations"
      ],
      "metadata": {
        "id": "b-V4C1WLlJkr"
      }
    },
    {
      "cell_type": "code",
      "source": [
        "df_clean.groupBy(\"PULocationID\").count().orderBy(\"count\", ascending=False).show(10)\n"
      ],
      "metadata": {
        "colab": {
          "base_uri": "https://localhost:8080/"
        },
        "id": "syJwwVftjq7A",
        "outputId": "af9b6c82-b6bb-4fa1-a0c5-92c19462b216"
      },
      "execution_count": null,
      "outputs": [
        {
          "output_type": "stream",
          "name": "stdout",
          "text": [
            "+------------+------+\n",
            "|PULocationID| count|\n",
            "+------------+------+\n",
            "|         132|159746|\n",
            "|         237|145657|\n",
            "|         236|135152|\n",
            "|         161|133474|\n",
            "|         186|108260|\n",
            "|         162|103981|\n",
            "|         142| 98075|\n",
            "|         230| 97506|\n",
            "|         138| 88874|\n",
            "|         170| 86647|\n",
            "+------------+------+\n",
            "only showing top 10 rows\n",
            "\n"
          ]
        }
      ]
    },
    {
      "cell_type": "markdown",
      "source": [
        "2. 🕒 Trips by Hour"
      ],
      "metadata": {
        "id": "uQjbKTlNlPQU"
      }
    },
    {
      "cell_type": "code",
      "source": [
        "from pyspark.sql.functions import hour\n",
        "\n",
        "df_clean = df_clean.withColumn(\"pickup_hour\", hour(\"tpep_pickup_datetime\"))\n",
        "df_clean.groupBy(\"pickup_hour\").count().orderBy(\"pickup_hour\").show()\n"
      ],
      "metadata": {
        "colab": {
          "base_uri": "https://localhost:8080/"
        },
        "id": "mSZukaQxlLeB",
        "outputId": "c5155675-abbb-4913-ed71-4c9c7bf83e1a"
      },
      "execution_count": null,
      "outputs": [
        {
          "output_type": "stream",
          "name": "stdout",
          "text": [
            "+-----------+------+\n",
            "|pickup_hour| count|\n",
            "+-----------+------+\n",
            "|          0| 82495|\n",
            "|          1| 57729|\n",
            "|          2| 40456|\n",
            "|          3| 26375|\n",
            "|          4| 16924|\n",
            "|          5| 17187|\n",
            "|          6| 41788|\n",
            "|          7| 82794|\n",
            "|          8|112018|\n",
            "|          9|127405|\n",
            "|         10|140765|\n",
            "|         11|151076|\n",
            "|         12|166624|\n",
            "|         13|175719|\n",
            "|         14|188470|\n",
            "|         15|193114|\n",
            "|         16|192256|\n",
            "|         17|204808|\n",
            "|         18|210761|\n",
            "|         19|188776|\n",
            "+-----------+------+\n",
            "only showing top 20 rows\n",
            "\n"
          ]
        }
      ]
    },
    {
      "cell_type": "markdown",
      "source": [
        " Step 6: Export Data for Plotting"
      ],
      "metadata": {
        "id": "Jjd65jy0lcKT"
      }
    },
    {
      "cell_type": "code",
      "source": [
        "# Convert Spark DataFrame to Pandas\n",
        "pickup_by_hour = df_clean.groupBy(\"pickup_hour\").count().orderBy(\"pickup_hour\").toPandas()\n",
        "\n",
        "# Plot using matplotlib\n",
        "import matplotlib.pyplot as plt\n",
        "\n",
        "plt.plot(pickup_by_hour['pickup_hour'], pickup_by_hour['count'])\n",
        "plt.title(\"Taxi Pickups by Hour\")\n",
        "plt.xlabel(\"Hour of Day\")\n",
        "plt.ylabel(\"Number of Pickups\")\n",
        "plt.grid(True)\n",
        "plt.show()\n"
      ],
      "metadata": {
        "colab": {
          "base_uri": "https://localhost:8080/",
          "height": 472
        },
        "id": "Z2mMKYDBlY0x",
        "outputId": "444bccaa-5c29-4960-e0b9-72b8359aa786"
      },
      "execution_count": null,
      "outputs": [
        {
          "output_type": "display_data",
          "data": {
            "text/plain": [
              "<Figure size 640x480 with 1 Axes>"
            ],
            "image/png": "[encoded data removed]"
          },
          "metadata": {}
        }
      ]
    },
    {
      "cell_type": "markdown",
      "source": [],
      "metadata": {
        "id": "tQEQN5KWmSV0"
      }
    },
    {
      "cell_type": "markdown",
      "source": [
        "## What I Learned from Analyzing NYC Taxi Data\n",
        "\n",
        "For this project, I explored the **Yellow Taxi Trip Records from New York City** for January 2023 using PySpark in Google Colab. The goal was to work with a large dataset and uncover interesting patterns about how taxis operate in a busy city like NYC.\n",
        "\n",
        "### When do people take the most taxis?\n",
        "\n",
        "After breaking down the data by hour, I noticed that **most taxi rides happen between 5 PM and 8 PM**, with a clear peak around **6 PM**. This makes perfect sense—it’s the evening rush hour when people are heading home from work.\n",
        "\n",
        "In contrast, the **quietest time** was between **2 AM and 5 AM**, when the city slows down and fewer people are out.\n",
        "\n",
        "###  How long do taxi trips usually take?\n",
        "\n",
        "By calculating the duration of each trip, I found that the **average ride lasts around 13 to 15 minutes**. There were a few trips that lasted **less than a minute** or **more than 2 hours**, which could either be special cases (like airport runs) or possible errors in the data.\n",
        "\n",
        "###  Where are people getting picked up the most?\n",
        "\n",
        "The data includes pickup zone IDs, and some zones stood out with **thousands of pickups**. For example, **Zone ID 142** appeared very frequently. This likely represents a busy part of Manhattan or another central location where taxis are always in demand.\n",
        "\n",
        "###  Final Thoughts\n",
        "\n",
        "It was exciting to see how even raw transportation data can tell a story about city life. With PySpark, I was able to process and analyze a dataset that would be too large for regular Python tools, and I now feel more confident working with big data tools.\n",
        "\n",
        "This project helped me understand:\n",
        "- How to use PySpark in a real-world context\n",
        "- How to find patterns in time-based and location-based data\n",
        "- And most importantly, how data can reflect human behavior at scale\n"
      ],
      "metadata": {
        "id": "nUQQw2WymTva"
      }
    },
    {
      "cell_type": "code",
      "source": [],
      "metadata": {
        "id": "CSHBuRFplo_9"
      },
      "execution_count": null,
      "outputs": []
    }
  ]
}